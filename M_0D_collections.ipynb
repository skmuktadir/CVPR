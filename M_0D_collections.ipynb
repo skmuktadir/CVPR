{
 "cells": [
  {
   "cell_type": "markdown",
   "id": "3c3a48a7",
   "metadata": {},
   "source": [
    "# Python Lists, Tuples, Dictionaries, & Sets"
   ]
  },
  {
   "cell_type": "markdown",
   "id": "166019b5",
   "metadata": {},
   "source": [
    "### List\n",
    "\n",
    "- items are stored sequentially\n",
    "- Lists are mutable\n",
    "- can hold on to different data types\n",
    "- use square brackets [] to create a list\n",
    "    \n",
    "\n",
    "### Tuple\n",
    "- ordered list of values\n",
    "- immutable\n",
    "- in many ways, it is simillar to a list; one of the most important difference is that tuples can be used as  KEYs in a dictionary or elements of a SET.\n",
    "- use () to create a tuple\n",
    "    \n",
    "For a Python program, lists and tuples are very similar. It is possible to get by as a programmer using only lists and ignoring tuples. Both lists and tuples hold an ordered collection of items.\n",
    "\n",
    "The primary difference that you will see syntactically is that a list is enclosed by square braces [] and a tuple is enclosed by parenthesis (). The following code defines both list and tuple."
   ]
  },
  {
   "cell_type": "code",
   "execution_count": 1,
   "id": "f7fb88cd",
   "metadata": {},
   "outputs": [
    {
     "name": "stdout",
     "output_type": "stream",
     "text": [
      "['a', 'b', 1, 2]\n",
      "(3.3, 4.7, 'c', 'd')\n"
     ]
    }
   ],
   "source": [
    "l = ['a', 'b', 1, 2]\n",
    "t = ( 3.3, 4.7, 'c', 'd')\n",
    "\n",
    "print(l)\n",
    "print(t)"
   ]
  },
  {
   "cell_type": "code",
   "execution_count": 5,
   "id": "d1ea158f",
   "metadata": {},
   "outputs": [
    {
     "name": "stdout",
     "output_type": "stream",
     "text": [
      "1 4.7 4.7\n"
     ]
    }
   ],
   "source": [
    "print(l[2], t[1], t[-3])"
   ]
  },
  {
   "cell_type": "code",
   "execution_count": 6,
   "id": "ed8b8201",
   "metadata": {},
   "outputs": [
    {
     "name": "stdout",
     "output_type": "stream",
     "text": [
      "3.3\n",
      "4.7\n",
      "c\n",
      "d\n"
     ]
    }
   ],
   "source": [
    "for i in t:\n",
    "    print(i)"
   ]
  },
  {
   "cell_type": "code",
   "execution_count": 7,
   "id": "903080bd",
   "metadata": {},
   "outputs": [
    {
     "name": "stdout",
     "output_type": "stream",
     "text": [
      "0:a\n",
      "1:b\n",
      "2:1\n",
      "3:2\n"
     ]
    }
   ],
   "source": [
    "for i,v in enumerate(l):\n",
    "    print(f\"{i}:{v}\")"
   ]
  },
  {
   "cell_type": "code",
   "execution_count": 8,
   "id": "6ec81d38",
   "metadata": {},
   "outputs": [
    {
     "name": "stdout",
     "output_type": "stream",
     "text": [
      "['a', 'b', 'c', 'c']\n"
     ]
    }
   ],
   "source": [
    "c = []\n",
    "c.append('a')\n",
    "c.append('b')\n",
    "c.append('c')\n",
    "c.append('c')\n",
    "print(c)"
   ]
  },
  {
   "cell_type": "code",
   "execution_count": 10,
   "id": "b6b02ada",
   "metadata": {},
   "outputs": [
    {
     "name": "stdout",
     "output_type": "stream",
     "text": [
      "['a', 'b', 'c', 'b']\n",
      "['a0', 'a', 'b', 'c', 'b']\n",
      "['a0', 'a', 'c', 'b']\n",
      "['a', 'c', 'b']\n"
     ]
    }
   ],
   "source": [
    "# Insert\n",
    "c = ['a', 'b', 'c', 'b']\n",
    "print(c)\n",
    "c.insert(0, 'a0')\n",
    "print(c)\n",
    "# Remove\n",
    "c.remove('b')\n",
    "print(c)\n",
    "# Remove at index\n",
    "del c[0]\n",
    "print(c)"
   ]
  },
  {
   "cell_type": "code",
   "execution_count": 11,
   "id": "fe821ba6",
   "metadata": {},
   "outputs": [
    {
     "name": "stdout",
     "output_type": "stream",
     "text": [
      "[['a', 'b', 'c'], [1, 2, 3, 4, 5, 6, 7, 8], ['One', 'Two']]\n"
     ]
    }
   ],
   "source": [
    "listOfLists = [\n",
    "    ['a','b','c'],\n",
    "    [1,2,3,4,5,6,7,8],\n",
    "    ['One','Two']\n",
    "]\n",
    "print(listOfLists)"
   ]
  },
  {
   "cell_type": "code",
   "execution_count": 15,
   "id": "c5a5767d",
   "metadata": {},
   "outputs": [
    {
     "name": "stdout",
     "output_type": "stream",
     "text": [
      "Two\n"
     ]
    }
   ],
   "source": [
    "print(listOfLists[2][1])"
   ]
  },
  {
   "cell_type": "markdown",
   "id": "d5f13ebe",
   "metadata": {},
   "source": [
    "### Sets\n",
    "\n",
    "A Python set holds an unordered collection of objects, but sets do not allow duplicates. If a program adds a duplicate item to a set, only one copy of each item remains in the collection. Adding a duplicate item to a set does not result in an error. Any of the following techniques will define a set.\n",
    "\n",
    "A list is always enclosed in square braces [], a tuple in parenthesis (), and now we see that the programmer encloses a set in curly braces. Programs can add items to a set as they run. Programs can dynamically add items to a set with the add function. It is important to note that the append function adds items to lists and tuples, whereas the add function adds items to a set."
   ]
  },
  {
   "cell_type": "code",
   "execution_count": 16,
   "id": "b6d7c212",
   "metadata": {},
   "outputs": [
    {
     "name": "stdout",
     "output_type": "stream",
     "text": [
      "{'EEE', 'BBA', 'MBA', 'ARCHI'} <class 'set'>\n"
     ]
    }
   ],
   "source": [
    "depts = {\"MBA\",\"EEE\",\"BBA\",\"ARCHI\"}\n",
    "print(depts, type(depts))"
   ]
  },
  {
   "cell_type": "code",
   "execution_count": 17,
   "id": "6e812971",
   "metadata": {},
   "outputs": [
    {
     "name": "stdout",
     "output_type": "stream",
     "text": [
      "{'EEE', 'MBA', 'CS', 'BBA', 'ARCHI'}\n"
     ]
    }
   ],
   "source": [
    "depts.add(\"CS\")\n",
    "print(depts)"
   ]
  },
  {
   "cell_type": "code",
   "execution_count": 18,
   "id": "a684ea9d",
   "metadata": {},
   "outputs": [
    {
     "name": "stdout",
     "output_type": "stream",
     "text": [
      "{'EEE', 'MBA', 'CS', 'BBA'}\n"
     ]
    }
   ],
   "source": [
    "depts.remove(\"ARCHI\")\n",
    "print(depts)"
   ]
  },
  {
   "cell_type": "code",
   "execution_count": 22,
   "id": "afb5961d",
   "metadata": {},
   "outputs": [
    {
     "data": {
      "text/plain": [
       "True"
      ]
     },
     "execution_count": 22,
     "metadata": {},
     "output_type": "execute_result"
    }
   ],
   "source": [
    "\"CS\" in depts"
   ]
  },
  {
   "cell_type": "code",
   "execution_count": 20,
   "id": "d0e5e931",
   "metadata": {},
   "outputs": [
    {
     "data": {
      "text/plain": [
       "False"
      ]
     },
     "execution_count": 20,
     "metadata": {},
     "output_type": "execute_result"
    }
   ],
   "source": [
    "\"ARCHI\" in depts"
   ]
  },
  {
   "cell_type": "markdown",
   "id": "2cbffae7",
   "metadata": {},
   "source": [
    "### Maps/Dictionaries/Hash Tables\n",
    "\n",
    "Many programming languages include the concept of a map, dictionary, or hash table. These are all very related concepts. Python provides a dictionary, that is essentially a collection of name-value pairs. Programs define dictionaries using curly-braces, as seen here."
   ]
  },
  {
   "cell_type": "code",
   "execution_count": 23,
   "id": "9f9431f6",
   "metadata": {},
   "outputs": [
    {
     "name": "stdout",
     "output_type": "stream",
     "text": [
      "{'mahedi': 93.77, 'rabbi': 94.0, 'ahsan': 92.5} <class 'dict'>\n"
     ]
    }
   ],
   "source": [
    "std = {'mahedi': 93.77, 'rabbi': 94.00, 'ahsan': 92.5}\n",
    "print(std, type(std))"
   ]
  },
  {
   "cell_type": "code",
   "execution_count": 24,
   "id": "6f63ad70",
   "metadata": {},
   "outputs": [
    {
     "name": "stdout",
     "output_type": "stream",
     "text": [
      "94.0\n"
     ]
    }
   ],
   "source": [
    "print(std['rabbi'])"
   ]
  },
  {
   "cell_type": "code",
   "execution_count": 27,
   "id": "f00f12aa",
   "metadata": {},
   "outputs": [
    {
     "data": {
      "text/plain": [
       "93.77"
      ]
     },
     "execution_count": 27,
     "metadata": {},
     "output_type": "execute_result"
    }
   ],
   "source": [
    "std.get('mahedi', 'default')"
   ]
  },
  {
   "cell_type": "code",
   "execution_count": 28,
   "id": "29eb7dce",
   "metadata": {},
   "outputs": [
    {
     "name": "stdout",
     "output_type": "stream",
     "text": [
      "Key: dict_keys(['mahedi', 'rabbi', 'ahsan'])\n"
     ]
    }
   ],
   "source": [
    "print(f\"Key: {std.keys()}\")"
   ]
  },
  {
   "cell_type": "code",
   "execution_count": 29,
   "id": "edda2135",
   "metadata": {},
   "outputs": [
    {
     "name": "stdout",
     "output_type": "stream",
     "text": [
      "Values: dict_values([93.77, 94.0, 92.5])\n"
     ]
    }
   ],
   "source": [
    "print(f\"Values: {std.values()}\")"
   ]
  },
  {
   "cell_type": "code",
   "execution_count": 30,
   "id": "441e6d2d",
   "metadata": {},
   "outputs": [
    {
     "name": "stdout",
     "output_type": "stream",
     "text": [
      "person\n",
      "cat\n",
      "dog\n",
      "spider\n"
     ]
    }
   ],
   "source": [
    "d = {'person': 2, 'cat': 4, 'dog': 4, 'spider': 8}\n",
    "for obs in d:\n",
    "    print(obs)"
   ]
  },
  {
   "cell_type": "code",
   "execution_count": 31,
   "id": "43398a64",
   "metadata": {},
   "outputs": [
    {
     "name": "stdout",
     "output_type": "stream",
     "text": [
      "A person has 2 legs\n",
      "A cat has 4 legs\n",
      "A dog has 4 legs\n",
      "A spider has 8 legs\n"
     ]
    }
   ],
   "source": [
    "for obs in d:\n",
    "    legs = d[obs]\n",
    "    print('A %s has %d legs' % (obs, legs))"
   ]
  },
  {
   "cell_type": "code",
   "execution_count": 32,
   "id": "87fc21c6",
   "metadata": {},
   "outputs": [
    {
     "name": "stdout",
     "output_type": "stream",
     "text": [
      "A person has 2 legs\n",
      "A cat has 4 legs\n",
      "A dog has 4 legs\n",
      "A spider has 8 legs\n"
     ]
    }
   ],
   "source": [
    "for obs,legs in d.items():\n",
    "    print('A %s has %d legs' % (obs, legs))"
   ]
  },
  {
   "cell_type": "markdown",
   "id": "e0c38f7f",
   "metadata": {},
   "source": [
    "### Advanced operations"
   ]
  },
  {
   "cell_type": "code",
   "execution_count": 33,
   "id": "43c2570d",
   "metadata": {},
   "outputs": [
    {
     "name": "stdout",
     "output_type": "stream",
     "text": [
      "[1, 2, 3]\n",
      "[1, 2]\n",
      "[4, 5]\n",
      "[1, 2, 3, 4]\n",
      "[3]\n"
     ]
    }
   ],
   "source": [
    "a = [1,2,3,4,5]\n",
    "print(a[0:3]) # slicing operator\n",
    "print(a[:2])\n",
    "print(a[3:])\n",
    "print(a[:-1])\n",
    "print(a[2:-2])"
   ]
  },
  {
   "cell_type": "code",
   "execution_count": 35,
   "id": "1184705e",
   "metadata": {},
   "outputs": [
    {
     "name": "stdout",
     "output_type": "stream",
     "text": [
      "<zip object at 0x0000016FF8588DC0>\n",
      "[(1, 5), (2, 4), (3, 3), (4, 2), (5, 1)]\n"
     ]
    }
   ],
   "source": [
    "a = [1,2,3,4,5]\n",
    "b = [5,4,3,2,1]\n",
    "\n",
    "print(zip(a,b))\n",
    "print(list(zip(a,b)))"
   ]
  },
  {
   "cell_type": "code",
   "execution_count": 36,
   "id": "f4390eed",
   "metadata": {},
   "outputs": [
    {
     "name": "stdout",
     "output_type": "stream",
     "text": [
      "1 - 5 ==> -4\n",
      "2 - 4 ==> -2\n",
      "3 - 3 ==> 0\n",
      "4 - 2 ==> 2\n",
      "5 - 1 ==> 4\n"
     ]
    }
   ],
   "source": [
    "for x,y in zip(a,b):\n",
    "    print(f'{x} - {y} ==> {x-y}')"
   ]
  },
  {
   "cell_type": "code",
   "execution_count": 37,
   "id": "69e6e517",
   "metadata": {},
   "outputs": [
    {
     "name": "stdout",
     "output_type": "stream",
     "text": [
      "[(1, 5), (2, 4), (3, 3)]\n"
     ]
    }
   ],
   "source": [
    "a = [1,2,3,4,5]\n",
    "b = [5,4,3]\n",
    "\n",
    "print(list(zip(a,b)))"
   ]
  },
  {
   "cell_type": "code",
   "execution_count": 38,
   "id": "48c2374b",
   "metadata": {},
   "outputs": [
    {
     "name": "stdout",
     "output_type": "stream",
     "text": [
      "[0, 1, 4, 9, 16, 25, 36, 49, 64, 81]\n"
     ]
    }
   ],
   "source": [
    "arr1 = [0,1,2,3,4,5,6,7,8,9]\n",
    "arr2 = []\n",
    "# avoid doing this !!!!\n",
    "for a in arr1:\n",
    "    arr2.append(a**2)\n",
    "print(arr2)"
   ]
  },
  {
   "cell_type": "markdown",
   "id": "4083673f",
   "metadata": {},
   "source": [
    "### List Comprehension"
   ]
  },
  {
   "cell_type": "code",
   "execution_count": 39,
   "id": "7760b126",
   "metadata": {},
   "outputs": [
    {
     "name": "stdout",
     "output_type": "stream",
     "text": [
      "[0, 1, 2, 3, 4, 5, 6, 7, 8, 9]\n"
     ]
    }
   ],
   "source": [
    "arr1 = [0,1,2,3,4,5,6,7,8,9]\n",
    "arr1_copy = [i for i in arr1]\n",
    "print(arr1_copy)"
   ]
  },
  {
   "cell_type": "code",
   "execution_count": 40,
   "id": "21ec3544",
   "metadata": {},
   "outputs": [
    {
     "name": "stdout",
     "output_type": "stream",
     "text": [
      "[0, 1, 4, 9, 16, 25, 36, 49, 64, 81]\n"
     ]
    }
   ],
   "source": [
    "sq = [a**2 for a in arr1]\n",
    "print(sq)"
   ]
  },
  {
   "cell_type": "code",
   "execution_count": 41,
   "id": "0b08615f",
   "metadata": {},
   "outputs": [
    {
     "name": "stdout",
     "output_type": "stream",
     "text": [
      "[0, 4, 16, 36, 64]\n"
     ]
    }
   ],
   "source": [
    "sq_even = [x**2 for x in arr1 if x%2 == 0]\n",
    "print(sq_even)"
   ]
  },
  {
   "cell_type": "code",
   "execution_count": 42,
   "id": "e5944694",
   "metadata": {},
   "outputs": [
    {
     "name": "stdout",
     "output_type": "stream",
     "text": [
      "{(0, 0): (0, 0), (1, 1): (1, 1), (2, 2): (2, 4), (3, 3): (3, 9), (4, 4): (4, 16), (5, 5): (5, 25), (6, 6): (6, 36), (7, 7): (7, 49), (8, 8): (8, 64), (9, 9): (9, 81)}\n"
     ]
    }
   ],
   "source": [
    "d = {(a,a): (a,a**2) for a in range(10)}\n",
    "print(d)"
   ]
  },
  {
   "cell_type": "code",
   "execution_count": 43,
   "id": "5e83f718",
   "metadata": {},
   "outputs": [
    {
     "name": "stdout",
     "output_type": "stream",
     "text": [
      "(5, 25)\n"
     ]
    }
   ],
   "source": [
    "print(d[(5,5)])"
   ]
  },
  {
   "cell_type": "code",
   "execution_count": null,
   "id": "e3cafc4e",
   "metadata": {},
   "outputs": [],
   "source": []
  }
 ],
 "metadata": {
  "kernelspec": {
   "display_name": "tf24_py38_gpu",
   "language": "python",
   "name": "tf24_gpu"
  },
  "language_info": {
   "codemirror_mode": {
    "name": "ipython",
    "version": 3
   },
   "file_extension": ".py",
   "mimetype": "text/x-python",
   "name": "python",
   "nbconvert_exporter": "python",
   "pygments_lexer": "ipython3",
   "version": "3.8.8"
  }
 },
 "nbformat": 4,
 "nbformat_minor": 5
}
