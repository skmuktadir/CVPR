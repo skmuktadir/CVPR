{
 "cells": [
  {
   "cell_type": "markdown",
   "metadata": {},
   "source": [
    "# Course Overview"
   ]
  },
  {
   "cell_type": "markdown",
   "metadata": {},
   "source": [
    "### Course Description\n",
    "\n",
    "This course introduces the student to neural networks, regularization units (ReLU), convolution neural networks, and recurrent neural networks. Deep learning allows a model to learn hierarchies of information in a way that is similar to the function of the human brain. The focus of this course is primarily upon the application of deep learning, with some introduction to the mathematical foundations of deep learning. Students make use of the Python programming language to architect a deep learning model for several real-world data sets and interpret the results of these networks."
   ]
  },
  {
   "cell_type": "markdown",
   "metadata": {},
   "source": [
    "![Machine Learning](resources/images/M_0/machine_learning.png)"
   ]
  },
  {
   "cell_type": "markdown",
   "metadata": {},
   "source": [
    "### Course Outline\n",
    "\n",
    "0. __Module Zero (0)__\n",
    "\n",
    "    1. Course Overview\n",
    "    2. Software installation\n",
    "    3. Programming basics in python\n",
    "    4. Built-in data structures / Collections in python\n",
    "    5. Numpy\n",
    "    6. Lambda, Map, Reduce, Filter\n",
    "    7. Matplotlib\n",
    "\n",
    "1. __Module One (1)__\n",
    "\n",
    "    1. Perceptron\n",
    "    2. Activation functions \n",
    "    3. Neural Network architectures\n",
    "    4. Convolutional Neural Network architectures\n",
    "    \n",
    "2. __Module Two (2)__\n",
    "    \n",
    "    1. Neural Network with Tensorflow & Keras _(MNIST digits classification)_\n",
    "    2. Convolutional Neural Network with Tensorflow & Keras _(CIFAR-10 dataset classification)_\n",
    "        - Saving and Loading a Keras Neural Network\n",
    "        - Early Stopping in Keras to Prevent Overfitting\n",
    "    3. Image classification with custom dataset\n",
    "\n",
    "3. __Module Three (3)__\n",
    "\n",
    "    1. Image classification with *__AlexNet__*\n",
    "    2. Image classification with *__VggNet__*\n",
    "    \n",
    "4. __Module Four (4)__\n",
    "\n",
    "    1. Image classification with *__ResNet__*\n",
    "    2. Image classification with *__Inception: GoogleNet__*\n",
    "\n",
    "5. __Module Five (5)__\n",
    "\n",
    "    1. Transfer Learning\n",
    "    2. Visualization of learned karnels\n",
    "    \n",
    "6. __Module Six (6)__\n",
    "\n",
    "    1. Object detection Using *__Faster R-CNN__*\n",
    "    \n",
    "7. __Module Seven (7)__\n",
    "\n",
    "    1. Object detection Using *__SSD__*\n",
    "    2. Object detection Using *__YOLO__*\n",
    "    \n",
    "8. __Module Eight (8)__\n",
    "    \n",
    "    1. Segmentation using *__UNet__*\n",
    "    \n",
    "9. __Module Nine (9)__\n",
    "\n",
    "    1. GAN\n",
    "\n",
    "10. __Module Ten (10)__\n"
   ]
  },
  {
   "cell_type": "markdown",
   "metadata": {},
   "source": [
    "### Mark Distribution\n",
    "\n",
    "\n",
    "- __Mid Term__\n",
    "\n",
    "|        Type                          | Marks |                        Description                       |\n",
    "|:-------------------------------------|:-----:|:---------------------------------------------------------|\n",
    "| Quiz                                 |   20  | MCQ quiz on Module 0 (python)                            |\n",
    "| Class Assigments                     |   40  | Two programming assignments (individual)                 |\n",
    "| Mid Project                          |   30  | Image classification comparision report writting (Team)  |\n",
    "| Attendance & Class Performance       |   10  |                                                          |\n",
    "\n",
    "\n",
    "\n",
    "- __Final Term__\n",
    "\n",
    "|        Type                          | Marks |                        Description                       |\n",
    "|:-------------------------------------|:-----:|:---------------------------------------------------------|\n",
    "| Class Assignments                    |   40  | Two programming assignments (individual)                 |\n",
    "| Kaggle Project                       |   20  | Kaggle competetion (Team)                                |\n",
    "| Final Project                        |   30  | Deep learning implementationa and report writting (Team) |\n",
    "| Attendance & Class Performance       |   10  |                                                          |"
   ]
  },
  {
   "cell_type": "markdown",
   "metadata": {},
   "source": [
    "### Resources\n",
    "\n",
    "- __Text books__\n",
    "    - [Deep Learning book](https://www.deeplearningbook.org/) in press by Bengio, Goodfellow, Courville\n",
    "    - [Neural Networks](https://www.dkriesel.com/_media/science/neuronalenetze-en-zeta2-2col-dkrieselcom.pdf) by david Kriesel\n",
    "    - [Deep Learning Methods and Applications](https://www.dkriesel.com/_media/science/neuronalenetze-en-zeta2-2col-dkrieselcom.pdf) by Li Deng and Dong Yu\n",
    "\n",
    "\n",
    "- __Youtube video lecture series__\n",
    "    - [Introduction to Convolutional Neural Networks for Visual Recognition](https://www.youtube.com/playlist?list=PLC1qU-LWwrF64f4QKQT-Vg5Wr4qEE1Zxk) from Stanford University School of Engineering\n",
    "    - DeepLearningAI\n",
    "        - [Neural Networks and Deep Learning (Course 1 of the Deep Learning Specialization)](https://www.youtube.com/watch?v=vT1JzLTH4G4&list=PLC1qU-LWwrF64f4QKQT-Vg5Wr4qEE1Zxk&index=1&ab_channel=StanfordUniversitySchoolofEngineering)\n",
    "        - [Improving Deep Neural Networks: Hyperparameter Tuning, Regularization and Optimization (Course 2 of the Deep Learning Specialization)](https://www.youtube.com/playlist?list=PLkDaE6sCZn6Hn0vK8co82zjQtt3T2Nkqc)\n",
    "    - [Neural Network](https://www.youtube.com/watch?v=aircAruvnKk&list=PLZHQObOWTQDNU6R1_67000Dx_ZCJB-3pi&ab_channel=3Blue1Brown) from 3blue1brown \n",
    "    - [Linear Algebra](https://www.youtube.com/watch?v=fNk_zzaMoSs&list=PLZHQObOWTQDPD3MizzM2xVFitgF8hE_ab&ab_channel=3Blue1Brown) from 3blue1brown \n",
    "\n",
    "\n"
   ]
  },
  {
   "cell_type": "markdown",
   "metadata": {},
   "source": [
    "### Road Map"
   ]
  },
  {
   "cell_type": "markdown",
   "metadata": {},
   "source": [
    "![Explore More](resources/images/johnny_deep/02.gif)"
   ]
  },
  {
   "cell_type": "markdown",
   "metadata": {},
   "source": [
    "![Explore](resources/images/johnny_deep/AssuredSpiritedBuffalo.webp)"
   ]
  },
  {
   "cell_type": "code",
   "execution_count": null,
   "metadata": {},
   "outputs": [],
   "source": []
  }
 ],
 "metadata": {
  "kernelspec": {
   "display_name": "Python 3 (ipykernel)",
   "language": "python",
   "name": "python3"
  },
  "language_info": {
   "codemirror_mode": {
    "name": "ipython",
    "version": 3
   },
   "file_extension": ".py",
   "mimetype": "text/x-python",
   "name": "python",
   "nbconvert_exporter": "python",
   "pygments_lexer": "ipython3",
   "version": "3.11.7"
  }
 },
 "nbformat": 4,
 "nbformat_minor": 4
}
