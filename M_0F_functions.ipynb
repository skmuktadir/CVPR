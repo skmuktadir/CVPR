{
 "cells": [
  {
   "cell_type": "markdown",
   "id": "31ed121c",
   "metadata": {},
   "source": [
    "# Map, Filter, Lambda, & Reduce"
   ]
  },
  {
   "cell_type": "code",
   "execution_count": 1,
   "id": "79e8449c",
   "metadata": {},
   "outputs": [],
   "source": [
    "def sign(a):\n",
    "    if a > 0:\n",
    "        return 'positive'\n",
    "    elif a < 0:\n",
    "        return 'negative'\n",
    "    else:\n",
    "        return 'zero'"
   ]
  },
  {
   "cell_type": "code",
   "execution_count": 2,
   "id": "3addcc9e",
   "metadata": {},
   "outputs": [
    {
     "name": "stdout",
     "output_type": "stream",
     "text": [
      "5 positive\n",
      "4 positive\n",
      "3 positive\n",
      "2 positive\n",
      "1 positive\n",
      "0 zero\n",
      "-1 negative\n",
      "-2 negative\n",
      "-3 negative\n",
      "-4 negative\n",
      "-5 negative\n"
     ]
    }
   ],
   "source": [
    "for i in range(5, -6, -1):\n",
    "    print(i, sign(i))"
   ]
  },
  {
   "cell_type": "markdown",
   "id": "109f394c",
   "metadata": {},
   "source": [
    "### Map"
   ]
  },
  {
   "cell_type": "code",
   "execution_count": 3,
   "id": "79304f2f",
   "metadata": {},
   "outputs": [],
   "source": [
    "def addtion(x):\n",
    "    return x+x"
   ]
  },
  {
   "cell_type": "code",
   "execution_count": 4,
   "id": "ca860383",
   "metadata": {},
   "outputs": [
    {
     "name": "stdout",
     "output_type": "stream",
     "text": [
      "[2, 4, 6, 8, 10, 12]\n"
     ]
    }
   ],
   "source": [
    "nums = [1,2,3,4,5,6]\n",
    "res = map(addtion, nums)\n",
    "print(list(res))"
   ]
  },
  {
   "cell_type": "code",
   "execution_count": 5,
   "id": "28c4a84a",
   "metadata": {},
   "outputs": [],
   "source": [
    "def pre_process(str):\n",
    "    t = str.strip()\n",
    "    return t[0].upper()+t[1:]"
   ]
  },
  {
   "cell_type": "code",
   "execution_count": 6,
   "id": "3b11c821",
   "metadata": {},
   "outputs": [
    {
     "data": {
      "text/plain": [
       "['Apple', 'Pear', 'Orange', 'Mango', 'Pine apple']"
      ]
     },
     "execution_count": 6,
     "metadata": {},
     "output_type": "execute_result"
    }
   ],
   "source": [
    "l1 = ['   apple  ', 'pear ', ' orange', 'mango', 'pine apple  ']\n",
    "list(map(pre_process, l1))"
   ]
  },
  {
   "cell_type": "code",
   "execution_count": 7,
   "id": "76227caa",
   "metadata": {},
   "outputs": [
    {
     "name": "stdout",
     "output_type": "stream",
     "text": [
      "['Apple', 'Pear', 'Orange', 'Mango', 'Pine apple']\n"
     ]
    }
   ],
   "source": [
    "l2 = [pre_process(x) for x in l1]\n",
    "print(l2)"
   ]
  },
  {
   "cell_type": "markdown",
   "id": "a26ed32a",
   "metadata": {},
   "source": [
    "### Filter"
   ]
  },
  {
   "cell_type": "code",
   "execution_count": 8,
   "id": "86be78d9",
   "metadata": {},
   "outputs": [
    {
     "name": "stdout",
     "output_type": "stream",
     "text": [
      "[10, 20]\n"
     ]
    }
   ],
   "source": [
    "def greater_than_five(x):\n",
    "    return x>5\n",
    "\n",
    "l = [ 1, 10, 20, 3, -2, 0]\n",
    "l2 = list(filter(greater_than_five, l))\n",
    "print(l2)"
   ]
  },
  {
   "cell_type": "markdown",
   "id": "db42e7e6",
   "metadata": {},
   "source": [
    "### Lambda"
   ]
  },
  {
   "cell_type": "code",
   "execution_count": 9,
   "id": "bb9de414",
   "metadata": {},
   "outputs": [
    {
     "name": "stdout",
     "output_type": "stream",
     "text": [
      "[2, 20, 40, 6, -4, 0]\n"
     ]
    }
   ],
   "source": [
    "nums = [ 1, 10, 20, 3, -2, 0]\n",
    "print(list(map(lambda a: a+a, nums)))"
   ]
  },
  {
   "cell_type": "code",
   "execution_count": 10,
   "id": "3c3fbede",
   "metadata": {},
   "outputs": [
    {
     "name": "stdout",
     "output_type": "stream",
     "text": [
      "[10, 20]\n"
     ]
    }
   ],
   "source": [
    "print(list(filter(lambda a: a>3, nums)))"
   ]
  },
  {
   "cell_type": "code",
   "execution_count": 11,
   "id": "23c7f2d7",
   "metadata": {},
   "outputs": [
    {
     "name": "stdout",
     "output_type": "stream",
     "text": [
      "[False, True, True, False, False, False]\n"
     ]
    }
   ],
   "source": [
    "print(list(map(lambda a: a>3, nums)))"
   ]
  },
  {
   "cell_type": "markdown",
   "id": "b49cd441",
   "metadata": {},
   "source": [
    "### Reduce\n",
    "\n",
    "Finally, we will make use of reduce. Like filter and map the reduce function also works on a list. However, the result of the reduce is a single value. Consider if you wanted to sum the values of a list. The sum is implemented by a lambda."
   ]
  },
  {
   "cell_type": "code",
   "execution_count": 12,
   "id": "b4b54125",
   "metadata": {},
   "outputs": [
    {
     "name": "stdout",
     "output_type": "stream",
     "text": [
      "32\n"
     ]
    }
   ],
   "source": [
    "from functools import reduce\n",
    "\n",
    "l = [ 1, 10, 20, 3, -2, 0]\n",
    "result = reduce(lambda x,y: x+y,l)\n",
    "print(result)"
   ]
  }
 ],
 "metadata": {
  "kernelspec": {
   "display_name": "tf24_py38_gpu",
   "language": "python",
   "name": "tf24_gpu"
  },
  "language_info": {
   "codemirror_mode": {
    "name": "ipython",
    "version": 3
   },
   "file_extension": ".py",
   "mimetype": "text/x-python",
   "name": "python",
   "nbconvert_exporter": "python",
   "pygments_lexer": "ipython3",
   "version": "3.8.8"
  }
 },
 "nbformat": 4,
 "nbformat_minor": 5
}
